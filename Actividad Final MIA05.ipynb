{
 "cells": [
  {
   "cell_type": "markdown",
   "id": "d39ab996",
   "metadata": {},
   "source": [
    "# Actividad Final MIA05"
   ]
  },
  {
   "cell_type": "markdown",
   "id": "c1c87c41",
   "metadata": {},
   "source": [
    "Integrantes:\n",
    "\n",
    "Juan Carlos Muñoz Esquivel.\n",
    "María Delina Culebro Farrera.\n",
    "Aline Hernandez Garcia.\n",
    "Miguel Ángel Tamer Meyer.\n",
    "Aurora Correa Flores.\n"
   ]
  },
  {
   "cell_type": "markdown",
   "id": "44e75b85",
   "metadata": {},
   "source": [
    "Librerías"
   ]
  },
  {
   "cell_type": "code",
   "execution_count": 146,
   "id": "df1984cd",
   "metadata": {},
   "outputs": [
    {
     "data": {
      "text/plain": [
       "'2.2.2+cpu'"
      ]
     },
     "execution_count": 146,
     "metadata": {},
     "output_type": "execute_result"
    }
   ],
   "source": [
    "import torch\n",
    "torch.__version__"
   ]
  },
  {
   "cell_type": "code",
   "execution_count": 147,
   "id": "b4e1c3f3",
   "metadata": {},
   "outputs": [],
   "source": [
    "\n",
    "import torch.nn as nn\n",
    "import torch.nn.functional as F\n",
    "from sklearn.model_selection import train_test_split\n",
    "from sklearn import datasets\n",
    "from sklearn.metrics import accuracy_score, confusion_matrix\n",
    "import numpy as np\n",
    "import pandas as pd\n",
    "import matplotlib.pyplot as plt\n",
    "%matplotlib inline"
   ]
  },
  {
   "cell_type": "markdown",
   "id": "1fd3306a",
   "metadata": {},
   "source": [
    "Importando conjunto de datos."
   ]
  },
  {
   "cell_type": "code",
   "execution_count": 148,
   "id": "8dbf0258",
   "metadata": {},
   "outputs": [
    {
     "data": {
      "text/plain": [
       "array([[1.799e+01, 1.038e+01, 1.228e+02, ..., 2.654e-01, 4.601e-01,\n",
       "        1.189e-01],\n",
       "       [2.057e+01, 1.777e+01, 1.329e+02, ..., 1.860e-01, 2.750e-01,\n",
       "        8.902e-02],\n",
       "       [1.969e+01, 2.125e+01, 1.300e+02, ..., 2.430e-01, 3.613e-01,\n",
       "        8.758e-02],\n",
       "       ...,\n",
       "       [1.660e+01, 2.808e+01, 1.083e+02, ..., 1.418e-01, 2.218e-01,\n",
       "        7.820e-02],\n",
       "       [2.060e+01, 2.933e+01, 1.401e+02, ..., 2.650e-01, 4.087e-01,\n",
       "        1.240e-01],\n",
       "       [7.760e+00, 2.454e+01, 4.792e+01, ..., 0.000e+00, 2.871e-01,\n",
       "        7.039e-02]])"
      ]
     },
     "execution_count": 148,
     "metadata": {},
     "output_type": "execute_result"
    }
   ],
   "source": [
    "#cargando conjuntos de datos\n",
    "breast = datasets.load_breast_cancer()\n",
    "#ver lo datos\n",
    "breast.data\n"
   ]
  },
  {
   "cell_type": "code",
   "execution_count": 149,
   "id": "015bb71f",
   "metadata": {},
   "outputs": [
    {
     "data": {
      "text/plain": [
       "array(['mean radius', 'mean texture', 'mean perimeter', 'mean area',\n",
       "       'mean smoothness', 'mean compactness', 'mean concavity',\n",
       "       'mean concave points', 'mean symmetry', 'mean fractal dimension',\n",
       "       'radius error', 'texture error', 'perimeter error', 'area error',\n",
       "       'smoothness error', 'compactness error', 'concavity error',\n",
       "       'concave points error', 'symmetry error',\n",
       "       'fractal dimension error', 'worst radius', 'worst texture',\n",
       "       'worst perimeter', 'worst area', 'worst smoothness',\n",
       "       'worst compactness', 'worst concavity', 'worst concave points',\n",
       "       'worst symmetry', 'worst fractal dimension'], dtype='<U23')"
      ]
     },
     "execution_count": 149,
     "metadata": {},
     "output_type": "execute_result"
    }
   ],
   "source": [
    "#nombre de las columnas\n",
    "breast.feature_names"
   ]
  },
  {
   "cell_type": "code",
   "execution_count": 150,
   "id": "295d5d1a",
   "metadata": {},
   "outputs": [
    {
     "data": {
      "text/plain": [
       "array([0, 0, 0, 0, 0, 0, 0, 0, 0, 0, 0, 0, 0, 0, 0, 0, 0, 0, 0, 1, 1, 1,\n",
       "       0, 0, 0, 0, 0, 0, 0, 0, 0, 0, 0, 0, 0, 0, 0, 1, 0, 0, 0, 0, 0, 0,\n",
       "       0, 0, 1, 0, 1, 1, 1, 1, 1, 0, 0, 1, 0, 0, 1, 1, 1, 1, 0, 1, 0, 0,\n",
       "       1, 1, 1, 1, 0, 1, 0, 0, 1, 0, 1, 0, 0, 1, 1, 1, 0, 0, 1, 0, 0, 0,\n",
       "       1, 1, 1, 0, 1, 1, 0, 0, 1, 1, 1, 0, 0, 1, 1, 1, 1, 0, 1, 1, 0, 1,\n",
       "       1, 1, 1, 1, 1, 1, 1, 0, 0, 0, 1, 0, 0, 1, 1, 1, 0, 0, 1, 0, 1, 0,\n",
       "       0, 1, 0, 0, 1, 1, 0, 1, 1, 0, 1, 1, 1, 1, 0, 1, 1, 1, 1, 1, 1, 1,\n",
       "       1, 1, 0, 1, 1, 1, 1, 0, 0, 1, 0, 1, 1, 0, 0, 1, 1, 0, 0, 1, 1, 1,\n",
       "       1, 0, 1, 1, 0, 0, 0, 1, 0, 1, 0, 1, 1, 1, 0, 1, 1, 0, 0, 1, 0, 0,\n",
       "       0, 0, 1, 0, 0, 0, 1, 0, 1, 0, 1, 1, 0, 1, 0, 0, 0, 0, 1, 1, 0, 0,\n",
       "       1, 1, 1, 0, 1, 1, 1, 1, 1, 0, 0, 1, 1, 0, 1, 1, 0, 0, 1, 0, 1, 1,\n",
       "       1, 1, 0, 1, 1, 1, 1, 1, 0, 1, 0, 0, 0, 0, 0, 0, 0, 0, 0, 0, 0, 0,\n",
       "       0, 0, 1, 1, 1, 1, 1, 1, 0, 1, 0, 1, 1, 0, 1, 1, 0, 1, 0, 0, 1, 1,\n",
       "       1, 1, 1, 1, 1, 1, 1, 1, 1, 1, 1, 0, 1, 1, 0, 1, 0, 1, 1, 1, 1, 1,\n",
       "       1, 1, 1, 1, 1, 1, 1, 1, 1, 0, 1, 1, 1, 0, 1, 0, 1, 1, 1, 1, 0, 0,\n",
       "       0, 1, 1, 1, 1, 0, 1, 0, 1, 0, 1, 1, 1, 0, 1, 1, 1, 1, 1, 1, 1, 0,\n",
       "       0, 0, 1, 1, 1, 1, 1, 1, 1, 1, 1, 1, 1, 0, 0, 1, 0, 0, 0, 1, 0, 0,\n",
       "       1, 1, 1, 1, 1, 0, 1, 1, 1, 1, 1, 0, 1, 1, 1, 0, 1, 1, 0, 0, 1, 1,\n",
       "       1, 1, 1, 1, 0, 1, 1, 1, 1, 1, 1, 1, 0, 1, 1, 1, 1, 1, 0, 1, 1, 0,\n",
       "       1, 1, 1, 1, 1, 1, 1, 1, 1, 1, 1, 1, 0, 1, 0, 0, 1, 0, 1, 1, 1, 1,\n",
       "       1, 0, 1, 1, 0, 1, 0, 1, 1, 0, 1, 0, 1, 1, 1, 1, 1, 1, 1, 1, 0, 0,\n",
       "       1, 1, 1, 1, 1, 1, 0, 1, 1, 1, 1, 1, 1, 1, 1, 1, 1, 0, 1, 1, 1, 1,\n",
       "       1, 1, 1, 0, 1, 0, 1, 1, 0, 1, 1, 1, 1, 1, 0, 0, 1, 0, 1, 0, 1, 1,\n",
       "       1, 1, 1, 0, 1, 1, 0, 1, 0, 1, 0, 0, 1, 1, 1, 0, 1, 1, 1, 1, 1, 1,\n",
       "       1, 1, 1, 1, 1, 0, 1, 0, 0, 1, 1, 1, 1, 1, 1, 1, 1, 1, 1, 1, 1, 1,\n",
       "       1, 1, 1, 1, 1, 1, 1, 1, 1, 1, 1, 1, 0, 0, 0, 0, 0, 0, 1])"
      ]
     },
     "execution_count": 150,
     "metadata": {},
     "output_type": "execute_result"
    }
   ],
   "source": [
    "#Para observar los objetivos tenemos dos clases 0 y 1\n",
    "breast.target"
   ]
  },
  {
   "cell_type": "code",
   "execution_count": 151,
   "id": "3bd6b04f",
   "metadata": {},
   "outputs": [
    {
     "data": {
      "text/plain": [
       "array(['malignant', 'benign'], dtype='<U9')"
      ]
     },
     "execution_count": 151,
     "metadata": {},
     "output_type": "execute_result"
    }
   ],
   "source": [
    "#nombres de las clases\n",
    "breast.target_names"
   ]
  },
  {
   "cell_type": "code",
   "execution_count": 152,
   "id": "e7443009",
   "metadata": {},
   "outputs": [
    {
     "data": {
      "text/plain": [
       "(569, 30)"
      ]
     },
     "execution_count": 152,
     "metadata": {},
     "output_type": "execute_result"
    }
   ],
   "source": [
    "inputs = breast.data\n",
    "#569 instancias y 30 columnas\n",
    "inputs.shape"
   ]
  },
  {
   "cell_type": "code",
   "execution_count": 153,
   "id": "03c96482",
   "metadata": {},
   "outputs": [
    {
     "data": {
      "text/plain": [
       "(569,)"
      ]
     },
     "execution_count": 153,
     "metadata": {},
     "output_type": "execute_result"
    }
   ],
   "source": [
    "outputs = breast.target\n",
    "#569 intancias\n",
    "outputs.shape"
   ]
  },
  {
   "cell_type": "code",
   "execution_count": 154,
   "id": "52b8c515",
   "metadata": {},
   "outputs": [],
   "source": [
    "#partir datos en entrenamiento y prueba\n",
    "X_train, X_test, y_train, y_test = train_test_split(inputs, outputs, test_size = 0.25)"
   ]
  },
  {
   "cell_type": "code",
   "execution_count": 155,
   "id": "152ee8e1",
   "metadata": {},
   "outputs": [
    {
     "data": {
      "text/plain": [
       "(426, 30)"
      ]
     },
     "execution_count": 155,
     "metadata": {},
     "output_type": "execute_result"
    }
   ],
   "source": [
    "X_train.shape"
   ]
  },
  {
   "cell_type": "code",
   "execution_count": 156,
   "id": "29489253",
   "metadata": {
    "scrolled": true
   },
   "outputs": [
    {
     "data": {
      "text/plain": [
       "(143, 30)"
      ]
     },
     "execution_count": 156,
     "metadata": {},
     "output_type": "execute_result"
    }
   ],
   "source": [
    "#25% de los datos que vamos a probar\n",
    "X_test.shape"
   ]
  },
  {
   "cell_type": "markdown",
   "id": "069d802b",
   "metadata": {},
   "source": [
    "Transformación de los datos"
   ]
  },
  {
   "cell_type": "code",
   "execution_count": 157,
   "id": "7cec3764",
   "metadata": {},
   "outputs": [
    {
     "data": {
      "text/plain": [
       "numpy.ndarray"
      ]
     },
     "execution_count": 157,
     "metadata": {},
     "output_type": "execute_result"
    }
   ],
   "source": [
    "type(X_train)\n",
    "# Se necesita cambiar de numpy.ndarray a pytorch Tensor"
   ]
  },
  {
   "cell_type": "code",
   "execution_count": 158,
   "id": "23fd2294",
   "metadata": {},
   "outputs": [],
   "source": [
    "X_train = torch.tensor(X_train, dtype=torch.float)\n",
    "y_train = torch.tensor(y_train, dtype=torch.float)"
   ]
  },
  {
   "cell_type": "code",
   "execution_count": 159,
   "id": "a350a4c5",
   "metadata": {},
   "outputs": [
    {
     "data": {
      "text/plain": [
       "torch.Tensor"
      ]
     },
     "execution_count": 159,
     "metadata": {},
     "output_type": "execute_result"
    }
   ],
   "source": [
    "type(X_train)"
   ]
  },
  {
   "cell_type": "code",
   "execution_count": 160,
   "id": "ff38442a",
   "metadata": {},
   "outputs": [],
   "source": [
    "# Se convierte también el dataset\n",
    "dataset = torch.utils.data.TensorDataset(X_train,y_train, )"
   ]
  },
  {
   "cell_type": "code",
   "execution_count": 161,
   "id": "3d5126e1",
   "metadata": {},
   "outputs": [
    {
     "data": {
      "text/plain": [
       "torch.utils.data.dataset.TensorDataset"
      ]
     },
     "execution_count": 161,
     "metadata": {},
     "output_type": "execute_result"
    }
   ],
   "source": [
    "type(dataset)"
   ]
  },
  {
   "cell_type": "code",
   "execution_count": 162,
   "id": "926266a3",
   "metadata": {},
   "outputs": [],
   "source": [
    "train_loader = torch.utils.data.DataLoader(dataset, batch_size = 10)"
   ]
  },
  {
   "cell_type": "markdown",
   "id": "9971a724",
   "metadata": {},
   "source": [
    "Structura de la Red Neuronal "
   ]
  },
  {
   "cell_type": "code",
   "execution_count": 163,
   "id": "fd5ff457",
   "metadata": {},
   "outputs": [],
   "source": [
    "#(Inputs+Ouputs)/2 -> (30+1)/2 = 15.5 = 16\n",
    "#30 -> 16 -> 16 -> 1\n",
    "network = nn.Sequential(nn.Linear(in_features=30,out_features=16),\n",
    "                        nn.Sigmoid(),\n",
    "                        nn.Linear(16, 16),\n",
    "                        nn.Sigmoid(),\n",
    "                        nn.Linear(16, 1),\n",
    "                        nn.Sigmoid())\n",
    "\n"
   ]
  },
  {
   "cell_type": "code",
   "execution_count": 164,
   "id": "a6823f1e",
   "metadata": {},
   "outputs": [
    {
     "data": {
      "text/plain": [
       "<bound method Module.parameters of Sequential(\n",
       "  (0): Linear(in_features=30, out_features=16, bias=True)\n",
       "  (1): Sigmoid()\n",
       "  (2): Linear(in_features=16, out_features=16, bias=True)\n",
       "  (3): Sigmoid()\n",
       "  (4): Linear(in_features=16, out_features=1, bias=True)\n",
       "  (5): Sigmoid()\n",
       ")>"
      ]
     },
     "execution_count": 164,
     "metadata": {},
     "output_type": "execute_result"
    }
   ],
   "source": [
    "network.parameters"
   ]
  },
  {
   "cell_type": "code",
   "execution_count": 165,
   "id": "cd89d262",
   "metadata": {},
   "outputs": [],
   "source": [
    "# Si tenemos un error binario podemos usar BCELoss Binary Cross Entropy para calcularlo\n",
    "loss_function = nn.BCELoss() "
   ]
  },
  {
   "cell_type": "code",
   "execution_count": 166,
   "id": "9b4e2f85",
   "metadata": {},
   "outputs": [],
   "source": [
    "#Creación del optimizador que actualiza los pesos y la tasa de aprendizaje\n",
    "optimizer = torch.optim.Adam(network.parameters(), lr = 0.001) "
   ]
  },
  {
   "cell_type": "markdown",
   "id": "4204d1d7",
   "metadata": {},
   "source": [
    "Entrenamiento"
   ]
  },
  {
   "cell_type": "code",
   "execution_count": 167,
   "id": "299ee49d",
   "metadata": {},
   "outputs": [
    {
     "name": "stdout",
     "output_type": "stream",
     "text": [
      "Epoch: 1 loss: 0.6656530346981314\n",
      "Epoch: 2 loss: 0.6594755330751109\n",
      "Epoch: 3 loss: 0.6555192512135173\n",
      "Epoch: 4 loss: 0.6512381711671519\n",
      "Epoch: 5 loss: 0.6471919154011926\n",
      "Epoch: 6 loss: 0.6433864263601081\n",
      "Epoch: 7 loss: 0.6383848758630974\n",
      "Epoch: 8 loss: 0.6333011652148047\n",
      "Epoch: 9 loss: 0.6264784044997637\n",
      "Epoch: 10 loss: 0.6181749202484308\n",
      "Epoch: 11 loss: 0.6114205343778744\n",
      "Epoch: 12 loss: 0.6012195501216623\n",
      "Epoch: 13 loss: 0.5900758449421373\n",
      "Epoch: 14 loss: 0.5781604398128598\n",
      "Epoch: 15 loss: 0.5655489591665046\n",
      "Epoch: 16 loss: 0.5518563985824585\n",
      "Epoch: 17 loss: 0.5430810278238252\n",
      "Epoch: 18 loss: 0.5242859145929647\n",
      "Epoch: 19 loss: 0.5091965912386428\n",
      "Epoch: 20 loss: 0.4930569515671841\n",
      "Epoch: 21 loss: 0.4845585663651311\n",
      "Epoch: 22 loss: 0.46706762632658316\n",
      "Epoch: 23 loss: 0.44601795909016634\n",
      "Epoch: 24 loss: 0.43179740323576815\n",
      "Epoch: 25 loss: 0.41568222434021707\n",
      "Epoch: 26 loss: 0.4035121375738188\n",
      "Epoch: 27 loss: 0.38854923844337463\n",
      "Epoch: 28 loss: 0.37778003028658935\n",
      "Epoch: 29 loss: 0.36810352774553523\n",
      "Epoch: 30 loss: 0.35532311298126396\n",
      "Epoch: 31 loss: 0.34844637228999026\n",
      "Epoch: 32 loss: 0.33479764745679014\n",
      "Epoch: 33 loss: 0.3275927204725354\n",
      "Epoch: 34 loss: 0.31901946109394697\n",
      "Epoch: 35 loss: 0.3191163706225018\n",
      "Epoch: 36 loss: 0.30954052230646445\n",
      "Epoch: 37 loss: 0.29818027241285455\n",
      "Epoch: 38 loss: 0.30714510069337003\n",
      "Epoch: 39 loss: 0.2922987851292588\n",
      "Epoch: 40 loss: 0.283207465396371\n",
      "Epoch: 41 loss: 0.282393503674241\n",
      "Epoch: 42 loss: 0.28963641770357307\n",
      "Epoch: 43 loss: 0.2820063512339148\n",
      "Epoch: 44 loss: 0.27227872194245806\n",
      "Epoch: 45 loss: 0.2649555687987527\n",
      "Epoch: 46 loss: 0.2718926805049874\n",
      "Epoch: 47 loss: 0.2698063762035481\n",
      "Epoch: 48 loss: 0.25718564713417097\n",
      "Epoch: 49 loss: 0.2611060028159341\n",
      "Epoch: 50 loss: 0.25686820475168004\n",
      "Epoch: 51 loss: 0.25918089234551717\n",
      "Epoch: 52 loss: 0.2528935622337253\n",
      "Epoch: 53 loss: 0.26011475071657536\n",
      "Epoch: 54 loss: 0.24634914949189785\n",
      "Epoch: 55 loss: 0.24853357135556464\n",
      "Epoch: 56 loss: 0.24096349644106488\n",
      "Epoch: 57 loss: 0.25124646775251214\n",
      "Epoch: 58 loss: 0.2546288225539895\n",
      "Epoch: 59 loss: 0.2465541234543157\n",
      "Epoch: 60 loss: 0.24508199459591576\n",
      "Epoch: 61 loss: 0.2382613952423251\n",
      "Epoch: 62 loss: 0.23383688181638718\n",
      "Epoch: 63 loss: 0.24768420811309372\n",
      "Epoch: 64 loss: 0.2295075436664182\n",
      "Epoch: 65 loss: 0.23830115847116293\n",
      "Epoch: 66 loss: 0.2481651394519695\n",
      "Epoch: 67 loss: 0.2286790741910768\n",
      "Epoch: 68 loss: 0.2434253215269987\n",
      "Epoch: 69 loss: 0.22741097636347593\n",
      "Epoch: 70 loss: 0.2508098062041194\n",
      "Epoch: 71 loss: 0.2244013421410738\n",
      "Epoch: 72 loss: 0.2522106889721959\n",
      "Epoch: 73 loss: 0.2219769874977511\n",
      "Epoch: 74 loss: 0.23864458180790724\n",
      "Epoch: 75 loss: 0.21868141818531725\n",
      "Epoch: 76 loss: 0.23084764875644861\n",
      "Epoch: 77 loss: 0.23144967264907304\n",
      "Epoch: 78 loss: 0.220159794788721\n",
      "Epoch: 79 loss: 0.22887758572780809\n",
      "Epoch: 80 loss: 0.22308007991591164\n",
      "Epoch: 81 loss: 0.22858645359790603\n",
      "Epoch: 82 loss: 0.21749145901480385\n",
      "Epoch: 83 loss: 0.23060082921455072\n",
      "Epoch: 84 loss: 0.2195284939262756\n",
      "Epoch: 85 loss: 0.21739835066850796\n",
      "Epoch: 86 loss: 0.21720790741748588\n",
      "Epoch: 87 loss: 0.21695621372308843\n",
      "Epoch: 88 loss: 0.21704950478187826\n",
      "Epoch: 89 loss: 0.21789125890232797\n",
      "Epoch: 90 loss: 0.2185185658204001\n",
      "Epoch: 91 loss: 0.21830539154105408\n",
      "Epoch: 92 loss: 0.21816180940977362\n",
      "Epoch: 93 loss: 0.21798358216535213\n",
      "Epoch: 94 loss: 0.21776979988397555\n",
      "Epoch: 95 loss: 0.21751771252169166\n",
      "Epoch: 96 loss: 0.21721065850105398\n",
      "Epoch: 97 loss: 0.216854025111642\n",
      "Epoch: 98 loss: 0.21643448785640473\n",
      "Epoch: 99 loss: 0.21598065012069637\n",
      "Epoch: 100 loss: 0.21549130517036416\n"
     ]
    }
   ],
   "source": [
    "epochs =100\n",
    "for epoch in range(epochs):\n",
    "    running_loss= 0. # Está variable guarda el valor en orden para imprimir después de cada uno de los epochs\n",
    "    \n",
    "    #ir para cada instancias\n",
    "    for data in train_loader:\n",
    "        inputs, outputs = data #crea entradas y salidas\n",
    "        #print(inputs)\n",
    "        #print('-----')\n",
    "        #print(outputs)\n",
    "        #reset el Gradiante después de cada grupo de 10 instancias\n",
    "        optimizer.zero_grad() \n",
    "        \n",
    "        #para las predicciones de esto toma cada grupo y la red neuronal va aplicar la función suma, la activación de la función, y optenemos la predicción en la capa de salida \n",
    "        predictions = network.forward(inputs)\n",
    "        loss = loss_function(predictions.squeeze(), outputs) #removiendo la dimension extra de las salidas esperadas del conjunto de datos\n",
    "        loss.backward() #función para la propagación de hacia atrás\n",
    "        optimizer.step() # Actualización de los pesos\n",
    "        \n",
    "        #Aquí se calcula el error por cada uno de los grupos\n",
    "        running_loss += loss.item()\n",
    "        #Se imprimen los resultados en orden de obtener un promedio\n",
    "    print('Epoch: ' + str(epoch + 1) + ' loss: ' + str(running_loss / len(train_loader)))"
   ]
  },
  {
   "cell_type": "markdown",
   "id": "76491da3",
   "metadata": {},
   "source": [
    "Evaluación"
   ]
  },
  {
   "cell_type": "code",
   "execution_count": 168,
   "id": "5c682b4f",
   "metadata": {},
   "outputs": [
    {
     "data": {
      "text/plain": [
       "Sequential(\n",
       "  (0): Linear(in_features=30, out_features=16, bias=True)\n",
       "  (1): Sigmoid()\n",
       "  (2): Linear(in_features=16, out_features=16, bias=True)\n",
       "  (3): Sigmoid()\n",
       "  (4): Linear(in_features=16, out_features=1, bias=True)\n",
       "  (5): Sigmoid()\n",
       ")"
      ]
     },
     "execution_count": 168,
     "metadata": {},
     "output_type": "execute_result"
    }
   ],
   "source": [
    "network.eval()"
   ]
  },
  {
   "cell_type": "code",
   "execution_count": 169,
   "id": "409c4871",
   "metadata": {},
   "outputs": [
    {
     "data": {
      "text/plain": [
       "(143, 30)"
      ]
     },
     "execution_count": 169,
     "metadata": {},
     "output_type": "execute_result"
    }
   ],
   "source": [
    "X_test.shape"
   ]
  },
  {
   "cell_type": "code",
   "execution_count": 170,
   "id": "364fd5bf",
   "metadata": {},
   "outputs": [
    {
     "data": {
      "text/plain": [
       "numpy.ndarray"
      ]
     },
     "execution_count": 170,
     "metadata": {},
     "output_type": "execute_result"
    }
   ],
   "source": [
    "type(X_test)"
   ]
  },
  {
   "cell_type": "code",
   "execution_count": 171,
   "id": "0070b607",
   "metadata": {},
   "outputs": [
    {
     "data": {
      "text/plain": [
       "torch.Tensor"
      ]
     },
     "execution_count": 171,
     "metadata": {},
     "output_type": "execute_result"
    }
   ],
   "source": [
    "#Convirtiendo de tipo numpy a tensor\n",
    "X_test = torch.tensor(X_test, dtype=torch.float)\n",
    "type(X_test)"
   ]
  },
  {
   "cell_type": "code",
   "execution_count": 172,
   "id": "d74f08ca",
   "metadata": {},
   "outputs": [
    {
     "data": {
      "text/plain": [
       "tensor([[0.0826],\n",
       "        [0.0826],\n",
       "        [0.0826],\n",
       "        [0.0826],\n",
       "        [0.9689],\n",
       "        [0.0826],\n",
       "        [0.9686],\n",
       "        [0.9689],\n",
       "        [0.0826],\n",
       "        [0.0826],\n",
       "        [0.9687],\n",
       "        [0.0826],\n",
       "        [0.9688],\n",
       "        [0.9688],\n",
       "        [0.9686],\n",
       "        [0.9688],\n",
       "        [0.9686],\n",
       "        [0.0826],\n",
       "        [0.9247],\n",
       "        [0.0826],\n",
       "        [0.9689],\n",
       "        [0.0866],\n",
       "        [0.9686],\n",
       "        [0.9689],\n",
       "        [0.9686],\n",
       "        [0.0826],\n",
       "        [0.9414],\n",
       "        [0.0826],\n",
       "        [0.0826],\n",
       "        [0.9689],\n",
       "        [0.9685],\n",
       "        [0.9621],\n",
       "        [0.0826],\n",
       "        [0.9689],\n",
       "        [0.9279],\n",
       "        [0.1644],\n",
       "        [0.9689],\n",
       "        [0.0826],\n",
       "        [0.0826],\n",
       "        [0.9688],\n",
       "        [0.9689],\n",
       "        [0.9200],\n",
       "        [0.0826],\n",
       "        [0.9679],\n",
       "        [0.0826],\n",
       "        [0.0826],\n",
       "        [0.9688],\n",
       "        [0.9686],\n",
       "        [0.0826],\n",
       "        [0.9688],\n",
       "        [0.9195],\n",
       "        [0.6386],\n",
       "        [0.9515],\n",
       "        [0.2814],\n",
       "        [0.8191],\n",
       "        [0.3922],\n",
       "        [0.2931],\n",
       "        [0.9688],\n",
       "        [0.9689],\n",
       "        [0.0826],\n",
       "        [0.9688],\n",
       "        [0.9565],\n",
       "        [0.0826],\n",
       "        [0.9677],\n",
       "        [0.0826],\n",
       "        [0.0826],\n",
       "        [0.9687],\n",
       "        [0.9614],\n",
       "        [0.0826],\n",
       "        [0.9685],\n",
       "        [0.9689],\n",
       "        [0.0826],\n",
       "        [0.0832],\n",
       "        [0.0826],\n",
       "        [0.0915],\n",
       "        [0.9675],\n",
       "        [0.0826],\n",
       "        [0.0827],\n",
       "        [0.0826],\n",
       "        [0.6878],\n",
       "        [0.9689],\n",
       "        [0.2951],\n",
       "        [0.9689],\n",
       "        [0.9688],\n",
       "        [0.9687],\n",
       "        [0.9689],\n",
       "        [0.0826],\n",
       "        [0.5176],\n",
       "        [0.9689],\n",
       "        [0.9684],\n",
       "        [0.9678],\n",
       "        [0.9677],\n",
       "        [0.0826],\n",
       "        [0.9687],\n",
       "        [0.9665],\n",
       "        [0.9687],\n",
       "        [0.9689],\n",
       "        [0.9681],\n",
       "        [0.9687],\n",
       "        [0.9684],\n",
       "        [0.6411],\n",
       "        [0.9689],\n",
       "        [0.0826],\n",
       "        [0.0826],\n",
       "        [0.0826],\n",
       "        [0.0826],\n",
       "        [0.9684],\n",
       "        [0.9679],\n",
       "        [0.9689],\n",
       "        [0.9680],\n",
       "        [0.0826],\n",
       "        [0.0826],\n",
       "        [0.9681],\n",
       "        [0.5745],\n",
       "        [0.9609],\n",
       "        [0.9689],\n",
       "        [0.9688],\n",
       "        [0.9670],\n",
       "        [0.9663],\n",
       "        [0.9128],\n",
       "        [0.9511],\n",
       "        [0.1019],\n",
       "        [0.9686],\n",
       "        [0.9681],\n",
       "        [0.0826],\n",
       "        [0.9670],\n",
       "        [0.9400],\n",
       "        [0.9684],\n",
       "        [0.0826],\n",
       "        [0.9688],\n",
       "        [0.9669],\n",
       "        [0.9686],\n",
       "        [0.9651],\n",
       "        [0.0846],\n",
       "        [0.9542],\n",
       "        [0.7214],\n",
       "        [0.9686],\n",
       "        [0.9689],\n",
       "        [0.9685],\n",
       "        [0.9688],\n",
       "        [0.0826],\n",
       "        [0.0826],\n",
       "        [0.0826]], grad_fn=<SigmoidBackward0>)"
      ]
     },
     "execution_count": 172,
     "metadata": {},
     "output_type": "execute_result"
    }
   ],
   "source": [
    "predictions = network.forward(X_test)\n",
    "predictions"
   ]
  },
  {
   "cell_type": "code",
   "execution_count": 173,
   "id": "0314562d",
   "metadata": {},
   "outputs": [
    {
     "data": {
      "text/plain": [
       "array([[False],\n",
       "       [False],\n",
       "       [False],\n",
       "       [False],\n",
       "       [ True],\n",
       "       [False],\n",
       "       [ True],\n",
       "       [ True],\n",
       "       [False],\n",
       "       [False],\n",
       "       [ True],\n",
       "       [False],\n",
       "       [ True],\n",
       "       [ True],\n",
       "       [ True],\n",
       "       [ True],\n",
       "       [ True],\n",
       "       [False],\n",
       "       [ True],\n",
       "       [False],\n",
       "       [ True],\n",
       "       [False],\n",
       "       [ True],\n",
       "       [ True],\n",
       "       [ True],\n",
       "       [False],\n",
       "       [ True],\n",
       "       [False],\n",
       "       [False],\n",
       "       [ True],\n",
       "       [ True],\n",
       "       [ True],\n",
       "       [False],\n",
       "       [ True],\n",
       "       [ True],\n",
       "       [False],\n",
       "       [ True],\n",
       "       [False],\n",
       "       [False],\n",
       "       [ True],\n",
       "       [ True],\n",
       "       [ True],\n",
       "       [False],\n",
       "       [ True],\n",
       "       [False],\n",
       "       [False],\n",
       "       [ True],\n",
       "       [ True],\n",
       "       [False],\n",
       "       [ True],\n",
       "       [ True],\n",
       "       [ True],\n",
       "       [ True],\n",
       "       [False],\n",
       "       [ True],\n",
       "       [False],\n",
       "       [False],\n",
       "       [ True],\n",
       "       [ True],\n",
       "       [False],\n",
       "       [ True],\n",
       "       [ True],\n",
       "       [False],\n",
       "       [ True],\n",
       "       [False],\n",
       "       [False],\n",
       "       [ True],\n",
       "       [ True],\n",
       "       [False],\n",
       "       [ True],\n",
       "       [ True],\n",
       "       [False],\n",
       "       [False],\n",
       "       [False],\n",
       "       [False],\n",
       "       [ True],\n",
       "       [False],\n",
       "       [False],\n",
       "       [False],\n",
       "       [ True],\n",
       "       [ True],\n",
       "       [False],\n",
       "       [ True],\n",
       "       [ True],\n",
       "       [ True],\n",
       "       [ True],\n",
       "       [False],\n",
       "       [ True],\n",
       "       [ True],\n",
       "       [ True],\n",
       "       [ True],\n",
       "       [ True],\n",
       "       [False],\n",
       "       [ True],\n",
       "       [ True],\n",
       "       [ True],\n",
       "       [ True],\n",
       "       [ True],\n",
       "       [ True],\n",
       "       [ True],\n",
       "       [ True],\n",
       "       [ True],\n",
       "       [False],\n",
       "       [False],\n",
       "       [False],\n",
       "       [False],\n",
       "       [ True],\n",
       "       [ True],\n",
       "       [ True],\n",
       "       [ True],\n",
       "       [False],\n",
       "       [False],\n",
       "       [ True],\n",
       "       [ True],\n",
       "       [ True],\n",
       "       [ True],\n",
       "       [ True],\n",
       "       [ True],\n",
       "       [ True],\n",
       "       [ True],\n",
       "       [ True],\n",
       "       [False],\n",
       "       [ True],\n",
       "       [ True],\n",
       "       [False],\n",
       "       [ True],\n",
       "       [ True],\n",
       "       [ True],\n",
       "       [False],\n",
       "       [ True],\n",
       "       [ True],\n",
       "       [ True],\n",
       "       [ True],\n",
       "       [False],\n",
       "       [ True],\n",
       "       [ True],\n",
       "       [ True],\n",
       "       [ True],\n",
       "       [ True],\n",
       "       [ True],\n",
       "       [False],\n",
       "       [False],\n",
       "       [False]])"
      ]
     },
     "execution_count": 173,
     "metadata": {},
     "output_type": "execute_result"
    }
   ],
   "source": [
    "#transformación de la predicciones\n",
    "predictions = np.array(predictions > 0.5)\n",
    "predictions"
   ]
  },
  {
   "cell_type": "code",
   "execution_count": 174,
   "id": "2d39e491",
   "metadata": {},
   "outputs": [
    {
     "data": {
      "text/plain": [
       "array([0, 0, 0, 0, 1, 0, 1, 1, 0, 0, 1, 0, 1, 1, 1, 1, 1, 0, 1, 0, 1, 0,\n",
       "       1, 1, 1, 0, 1, 0, 0, 1, 1, 1, 0, 1, 1, 1, 1, 0, 0, 1, 1, 0, 0, 1,\n",
       "       0, 0, 1, 1, 0, 1, 1, 1, 1, 1, 1, 1, 1, 1, 1, 0, 1, 1, 0, 1, 0, 0,\n",
       "       1, 0, 0, 1, 1, 0, 1, 0, 1, 1, 0, 0, 0, 1, 1, 0, 1, 1, 1, 1, 0, 1,\n",
       "       1, 1, 1, 1, 0, 1, 0, 1, 1, 1, 1, 1, 1, 1, 0, 0, 0, 0, 1, 1, 1, 1,\n",
       "       0, 0, 0, 1, 1, 1, 1, 1, 1, 1, 1, 1, 1, 1, 0, 1, 1, 1, 0, 1, 1, 1,\n",
       "       1, 0, 1, 1, 1, 1, 1, 1, 0, 0, 0])"
      ]
     },
     "execution_count": 174,
     "metadata": {},
     "output_type": "execute_result"
    }
   ],
   "source": [
    "y_test"
   ]
  },
  {
   "cell_type": "code",
   "execution_count": 175,
   "id": "8d946a12",
   "metadata": {},
   "outputs": [
    {
     "data": {
      "text/plain": [
       "0.9230769230769231"
      ]
     },
     "execution_count": 175,
     "metadata": {},
     "output_type": "execute_result"
    }
   ],
   "source": [
    "accuracy_score(y_test, predictions)"
   ]
  },
  {
   "cell_type": "code",
   "execution_count": 176,
   "id": "fcf02da9",
   "metadata": {},
   "outputs": [
    {
     "data": {
      "text/plain": [
       "array([[46,  4],\n",
       "       [ 7, 86]], dtype=int64)"
      ]
     },
     "execution_count": 176,
     "metadata": {},
     "output_type": "execute_result"
    }
   ],
   "source": [
    "cm = confusion_matrix(y_test, predictions)\n",
    "cm"
   ]
  },
  {
   "cell_type": "code",
   "execution_count": 177,
   "id": "396552fd",
   "metadata": {},
   "outputs": [
    {
     "data": {
      "text/plain": [
       "<Axes: >"
      ]
     },
     "execution_count": 177,
     "metadata": {},
     "output_type": "execute_result"
    },
    {
     "data": {
      "image/png": "[encoded data removed]",
      "text/plain": [
       "<Figure size 640x480 with 2 Axes>"
      ]
     },
     "metadata": {},
     "output_type": "display_data"
    }
   ],
   "source": [
    "import seaborn as sns\n",
    "sns.heatmap(cm, annot=True)"
   ]
  },
  {
   "cell_type": "markdown",
   "id": "e94579af",
   "metadata": {},
   "source": [
    "Red Neuronal Convolucional"
   ]
  },
  {
   "cell_type": "code",
   "execution_count": 137,
   "id": "89ce6b0d",
   "metadata": {},
   "outputs": [],
   "source": [
    "import numpy as np\n",
    "import torch\n",
    "import torch.nn as nn\n",
    "import torch.nn.functional as F\n",
    "from torch.utils.data import DataLoader\n",
    "from torch.utils.data import sampler\n",
    "import torchvision.transforms as T\n",
    "from sklearn.model_selection import train_test_split\n",
    "from sklearn import datasets\n",
    "from sklearn.metrics import accuracy_score, confusion_matrix\n",
    "import numpy as np\n",
    "import pandas as pd\n",
    "import matplotlib.pyplot as plt\n",
    "%matplotlib inline\n",
    "from sklearn.datasets import load_sample_images\n"
   ]
  },
  {
   "cell_type": "markdown",
   "id": "b64b1978",
   "metadata": {},
   "source": [
    "Conjunto de datos Datos"
   ]
  },
  {
   "cell_type": "code",
   "execution_count": 138,
   "id": "e5a6945e",
   "metadata": {},
   "outputs": [
    {
     "data": {
      "text/plain": [
       "array([[1.799e+01, 1.038e+01, 1.228e+02, ..., 2.654e-01, 4.601e-01,\n",
       "        1.189e-01],\n",
       "       [2.057e+01, 1.777e+01, 1.329e+02, ..., 1.860e-01, 2.750e-01,\n",
       "        8.902e-02],\n",
       "       [1.969e+01, 2.125e+01, 1.300e+02, ..., 2.430e-01, 3.613e-01,\n",
       "        8.758e-02],\n",
       "       ...,\n",
       "       [1.660e+01, 2.808e+01, 1.083e+02, ..., 1.418e-01, 2.218e-01,\n",
       "        7.820e-02],\n",
       "       [2.060e+01, 2.933e+01, 1.401e+02, ..., 2.650e-01, 4.087e-01,\n",
       "        1.240e-01],\n",
       "       [7.760e+00, 2.454e+01, 4.792e+01, ..., 0.000e+00, 2.871e-01,\n",
       "        7.039e-02]])"
      ]
     },
     "execution_count": 138,
     "metadata": {},
     "output_type": "execute_result"
    }
   ],
   "source": [
    "#cargando conjuntos de datos\n",
    "breast= datasets.load_breast_cancer()\n",
    "#ver lo datos\n",
    "breast.data\n"
   ]
  },
  {
   "cell_type": "code",
   "execution_count": 202,
   "id": "a7b0177b",
   "metadata": {},
   "outputs": [
    {
     "name": "stdout",
     "output_type": "stream",
     "text": [
      "dict_keys(['data', 'target', 'frame', 'target_names', 'DESCR', 'feature_names', 'filename', 'data_module'])\n"
     ]
    }
   ],
   "source": [
    "print(breast.keys())"
   ]
  },
  {
   "cell_type": "code",
   "execution_count": 209,
   "id": "29098d82",
   "metadata": {},
   "outputs": [
    {
     "name": "stdout",
     "output_type": "stream",
     "text": [
      ".. _breast_cancer_dataset:\n",
      "\n",
      "Breast cancer wisconsin (diagnostic) dataset\n",
      "--------------------------------------------\n",
      "\n",
      "**Data Set Characteristics:**\n",
      "\n",
      "    :Number of Instances: 569\n",
      "\n",
      "    :Number of Attributes: 30 numeric, predictive attributes and the class\n",
      "\n",
      "    :Attribute Information:\n",
      "        - radius (mean of distances from center to points on the perimeter)\n",
      "        - texture (standard deviation of gray-scale values)\n",
      "        - perimeter\n",
      "        - area\n",
      "        - smoothness (local variation in radius lengths)\n",
      "        - compactness (perimeter^2 / area - 1.0)\n",
      "        - concavity (severity of concave portions of the contour)\n",
      "        - concave points (number of concave portions of the contour)\n",
      "        - symmetry\n",
      "        - fractal dimension (\"coastline approximation\" - 1)\n",
      "\n",
      "        The mean, standard error, and \"worst\" or largest (mean of the three\n",
      "        worst/largest values) of these features were computed for each image,\n",
      "        resulting in 30 features.  For instance, field 0 is Mean Radius, field\n",
      "        10 is Radius SE, field 20 is Worst Radius.\n",
      "\n",
      "        - class:\n",
      "                - WDBC-Malignant\n",
      "                - WDBC-Benign\n",
      "\n",
      "    :Summary Statistics:\n",
      "\n",
      "    ===================================== ====== ======\n",
      "                                           Min    Max\n",
      "    ===================================== ====== ======\n",
      "    radius (mean):                        6.981  28.11\n",
      "    texture (mean):                       9.71   39.28\n",
      "    perimeter (mean):                     43.79  188.5\n",
      "    area (mean):                          143.5  2501.0\n",
      "    smoothness (mean):                    0.053  0.163\n",
      "    compactness (mean):                   0.019  0.345\n",
      "    concavity (mean):                     0.0    0.427\n",
      "    concave points (mean):                0.0    0.201\n",
      "    symmetry (mean):                      0.106  0.304\n",
      "    fractal dimension (mean):             0.05   0.097\n",
      "    radius (standard error):              0.112  2.873\n",
      "    texture (standard error):             0.36   4.885\n",
      "    perimeter (standard error):           0.757  21.98\n",
      "    area (standard error):                6.802  542.2\n",
      "    smoothness (standard error):          0.002  0.031\n",
      "    compactness (standard error):         0.002  0.135\n",
      "    concavity (standard error):           0.0    0.396\n",
      "    concave points (standard error):      0.0    0.053\n",
      "    symmetry (standard error):            0.008  0.079\n",
      "    fractal dimension (standard error):   0.001  0.03\n",
      "    radius (worst):                       7.93   36.04\n",
      "    texture (worst):                      12.02  49.54\n",
      "    perimeter (worst):                    50.41  251.2\n",
      "    area (worst):                         185.2  4254.0\n",
      "    smoothness (worst):                   0.071  0.223\n",
      "    compactness (worst):                  0.027  1.058\n",
      "    concavity (worst):                    0.0    1.252\n",
      "    concave points (worst):               0.0    0.291\n",
      "    symmetry (worst):                     0.156  0.664\n",
      "    fractal dimension (worst):            0.055  0.208\n",
      "    ===================================== ====== ======\n",
      "\n",
      "    :Missing Attribute Values: None\n",
      "\n",
      "    :Class Distribution: 212 - Malignant, 357 - Benign\n",
      "\n",
      "    :Creator:  Dr. William H. Wolberg, W. Nick Street, Olvi L. Mangasarian\n",
      "\n",
      "    :Donor: Nick Street\n",
      "\n",
      "    :Date: November, 1995\n",
      "\n",
      "This is a copy of UCI ML Breast Cancer Wisconsin (Diagnostic) datasets.\n",
      "https://goo.gl/U2Uwz2\n",
      "\n",
      "Features are computed from a digitized image of a fine needle\n",
      "aspirate (FNA) of a breast mass.  They describe\n",
      "characteristics of the cell nuclei present in the image.\n",
      "\n",
      "Separating plane described above was obtained using\n",
      "Multisurface Method-Tree (MSM-T) [K. P. Bennett, \"Decision Tree\n",
      "Construction Via Linear Programming.\" Proceedings of the 4th\n",
      "Midwest Artificial Intelligence and Cognitive Science Society,\n",
      "pp. 97-101, 1992], a classification method which uses linear\n",
      "programming to construct a decision tree.  Relevant features\n",
      "were selected using an exhaustive search in the space of 1-4\n",
      "features and 1-3 separating planes.\n",
      "\n",
      "The actual linear program used to obtain the separating plane\n",
      "in the 3-dimensional space is that described in:\n",
      "[K. P. Bennett and O. L. Mangasarian: \"Robust Linear\n",
      "Programming Discrimination of Two Linearly Inseparable Sets\",\n",
      "Optimization Methods and Software 1, 1992, 23-34].\n",
      "\n",
      "This database is also available through the UW CS ftp server:\n",
      "\n",
      "ftp ftp.cs.wisc.edu\n",
      "cd math-prog/cpo-dataset/machine-learn/WDBC/\n",
      "\n",
      ".. topic:: References\n",
      "\n",
      "   - W.N. Street, W.H. Wolberg and O.L. Mangasarian. Nuclear feature extraction \n",
      "     for breast tumor diagnosis. IS&T/SPIE 1993 International Symposium on \n",
      "     Electronic Imaging: Science and Technology, volume 1905, pages 861-870,\n",
      "     San Jose, CA, 1993.\n",
      "   - O.L. Mangasarian, W.N. Street and W.H. Wolberg. Breast cancer diagnosis and \n",
      "     prognosis via linear programming. Operations Research, 43(4), pages 570-577, \n",
      "     July-August 1995.\n",
      "   - W.H. Wolberg, W.N. Street, and O.L. Mangasarian. Machine learning techniques\n",
      "     to diagnose breast cancer from fine-needle aspirates. Cancer Letters 77 (1994) \n",
      "     163-171.\n"
     ]
    }
   ],
   "source": [
    "print(breast.DESCR)"
   ]
  },
  {
   "cell_type": "code",
   "execution_count": 139,
   "id": "7b857aab",
   "metadata": {},
   "outputs": [],
   "source": [
    "NUM_TRAIN = 426\n",
    "NUM_VAL = 143\n",
    "NUM_TEST = 143\n",
    "MINIBATCH_SIZE = 16\n",
    "\n",
    "transform_breast = T.Compose([T.ToTensor(),T.Normalize([0.491,0.482,0.447],[0.247,0.243,0.261])])\n",
    "test_loader = DataLoader(X_test, batch_size=MINIBATCH_SIZE,sampler=sampler.SubsetRandomSampler(range(NUM_VAL, len(X_test))))"
   ]
  },
  {
   "cell_type": "markdown",
   "id": "df9da901",
   "metadata": {},
   "source": [
    "Mostrar Imagenes\n"
   ]
  },
  {
   "cell_type": "code",
   "execution_count": 219,
   "id": "341961a8",
   "metadata": {},
   "outputs": [],
   "source": [
    "    plt.show(transform_breast)"
   ]
  },
  {
   "cell_type": "code",
   "execution_count": null,
   "id": "4ab944f6",
   "metadata": {},
   "outputs": [],
   "source": []
  }
 ],
 "metadata": {
  "kernelspec": {
   "display_name": "Python 3 (ipykernel)",
   "language": "python",
   "name": "python3"
  },
  "language_info": {
   "codemirror_mode": {
    "name": "ipython",
    "version": 3
   },
   "file_extension": ".py",
   "mimetype": "text/x-python",
   "name": "python",
   "nbconvert_exporter": "python",
   "pygments_lexer": "ipython3",
   "version": "3.11.5"
  }
 },
 "nbformat": 4,
 "nbformat_minor": 5
}
