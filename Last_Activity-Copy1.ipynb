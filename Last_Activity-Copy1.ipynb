{
 "cells": [
  {
   "cell_type": "markdown",
   "id": "bb85b7dc",
   "metadata": {},
   "source": [
    "# Last Activity MIA05"
   ]
  },
  {
   "cell_type": "markdown",
   "id": "6d7ce349",
   "metadata": {},
   "source": [
    "Integrantes:\n",
    "\n",
    "Juan Carlos Muñoz Esquivel.\n",
    "María Delina Culebro Farrera.\n",
    "Aline Hernandez Garcia.\n",
    "Miguel Ángel Tamer Meyer.\n",
    "\n"
   ]
  },
  {
   "cell_type": "markdown",
   "id": "39803c7a",
   "metadata": {},
   "source": [
    "# CNN\n"
   ]
  },
  {
   "cell_type": "code",
   "execution_count": 40,
   "id": "c801945c",
   "metadata": {},
   "outputs": [],
   "source": [
    "import torch\n",
    "import torch.nn as nn\n",
    "import torch.nn.functional as F\n",
    "\n",
    "from torch.utils.data import DataLoader\n",
    "from torchvision import datasets, transforms\n",
    "from torchvision.utils import make_grid\n",
    "\n",
    "from sklearn.metrics import confusion_matrix\n",
    "\n",
    "import numpy as np\n",
    "import pandas as pd\n",
    "import matplotlib.pyplot as plt\n",
    "%matplotlib inline"
   ]
  },
  {
   "cell_type": "code",
   "execution_count": 41,
   "id": "05c63efc",
   "metadata": {},
   "outputs": [],
   "source": [
    "#Lee transforms como un tensor\n",
    "transform = transforms.ToTensor()"
   ]
  },
  {
   "cell_type": "code",
   "execution_count": 42,
   "id": "33898e44",
   "metadata": {},
   "outputs": [],
   "source": [
    "#Se leen y bajan los datos de entrenamiento en la computadora\n",
    "train_data = datasets.MNIST(root='.Data',train=True,download=True,transform=transform)"
   ]
  },
  {
   "cell_type": "code",
   "execution_count": 43,
   "id": "0ea93a07",
   "metadata": {},
   "outputs": [],
   "source": [
    "#Se leen y bajan los datos de prueba en la computadora\n",
    "test_data = datasets.MNIST(root='./Data',train=False,download=True,transform=transform)"
   ]
  },
  {
   "cell_type": "code",
   "execution_count": 44,
   "id": "f44782f0",
   "metadata": {},
   "outputs": [
    {
     "data": {
      "text/plain": [
       "Dataset MNIST\n",
       "    Number of datapoints: 60000\n",
       "    Root location: .Data\n",
       "    Split: Train\n",
       "    StandardTransform\n",
       "Transform: ToTensor()"
      ]
     },
     "execution_count": 44,
     "metadata": {},
     "output_type": "execute_result"
    }
   ],
   "source": [
    "#Descripcíon de los datos de entrenamiento\n",
    "train_data"
   ]
  },
  {
   "cell_type": "code",
   "execution_count": 45,
   "id": "37912d7b",
   "metadata": {},
   "outputs": [
    {
     "data": {
      "text/plain": [
       "Dataset MNIST\n",
       "    Number of datapoints: 10000\n",
       "    Root location: ./Data\n",
       "    Split: Test\n",
       "    StandardTransform\n",
       "Transform: ToTensor()"
      ]
     },
     "execution_count": 45,
     "metadata": {},
     "output_type": "execute_result"
    }
   ],
   "source": [
    "#descrpcíon de los datos de entrenamiento\n",
    "test_data"
   ]
  },
  {
   "cell_type": "code",
   "execution_count": 46,
   "id": "41b3cabd",
   "metadata": {},
   "outputs": [],
   "source": [
    "#Se trabaja con un tamaño de lote esto de pende de la computadora y del modelo\n",
    "train_loader = DataLoader(train_data,batch_size=10,shuffle=True)\n",
    "test_loader = DataLoader(test_data,batch_size=10,shuffle=False)"
   ]
  },
  {
   "cell_type": "code",
   "execution_count": 47,
   "id": "f5493541",
   "metadata": {},
   "outputs": [],
   "source": [
    "#Se define el modelo convolucional 1 Canal de colores es gris, hacer 6 filtros (Canales de salidas), 3 por 3 Núcleos (Que tan grande debería ser el filtro o la imagen de nucleo), paso de 1\n",
    "conv1 = nn.Conv2d(1,6,3,1) #Tiene 6 filtros ---> agrupación ---> a red cnn conv2\n",
    "\n",
    "#6 entradas de filtros de Conv1, 16 filters son experimentales, # 3 por 3, paso de 1\n",
    "conv2 = nn.Conv2d(6,16,3,1)"
   ]
  },
  {
   "cell_type": "code",
   "execution_count": 48,
   "id": "ba1a02bf",
   "metadata": {},
   "outputs": [],
   "source": [
    "#esto nos permite solo agarrar el primer lote de datos\n",
    "for i,(X_train,y_train) in enumerate(train_data):\n",
    "    break"
   ]
  },
  {
   "cell_type": "code",
   "execution_count": 49,
   "id": "0231ebf7",
   "metadata": {},
   "outputs": [
    {
     "data": {
      "text/plain": [
       "torch.Size([1, 28, 28])"
      ]
     },
     "execution_count": 49,
     "metadata": {},
     "output_type": "execute_result"
    }
   ],
   "source": [
    "X_train.shape # convertir a 4 dimensiones por agrupacion de 1 imagen"
   ]
  },
  {
   "cell_type": "code",
   "execution_count": 50,
   "id": "532a573c",
   "metadata": {},
   "outputs": [
    {
     "data": {
      "text/plain": [
       "tensor([[[[0.0000, 0.0000, 0.0000, 0.0000, 0.0000, 0.0000, 0.0000, 0.0000,\n",
       "           0.0000, 0.0000, 0.0000, 0.0000, 0.0000, 0.0000, 0.0000, 0.0000,\n",
       "           0.0000, 0.0000, 0.0000, 0.0000, 0.0000, 0.0000, 0.0000, 0.0000,\n",
       "           0.0000, 0.0000, 0.0000, 0.0000],\n",
       "          [0.0000, 0.0000, 0.0000, 0.0000, 0.0000, 0.0000, 0.0000, 0.0000,\n",
       "           0.0000, 0.0000, 0.0000, 0.0000, 0.0000, 0.0000, 0.0000, 0.0000,\n",
       "           0.0000, 0.0000, 0.0000, 0.0000, 0.0000, 0.0000, 0.0000, 0.0000,\n",
       "           0.0000, 0.0000, 0.0000, 0.0000],\n",
       "          [0.0000, 0.0000, 0.0000, 0.0000, 0.0000, 0.0000, 0.0000, 0.0000,\n",
       "           0.0000, 0.0000, 0.0000, 0.0000, 0.0000, 0.0000, 0.0000, 0.0000,\n",
       "           0.0000, 0.0000, 0.0000, 0.0000, 0.0000, 0.0000, 0.0000, 0.0000,\n",
       "           0.0000, 0.0000, 0.0000, 0.0000],\n",
       "          [0.0000, 0.0000, 0.0000, 0.0000, 0.0000, 0.0000, 0.0000, 0.0000,\n",
       "           0.0000, 0.0000, 0.0000, 0.0000, 0.0000, 0.0000, 0.0000, 0.0000,\n",
       "           0.0000, 0.0000, 0.0000, 0.0000, 0.0000, 0.0000, 0.0000, 0.0000,\n",
       "           0.0000, 0.0000, 0.0000, 0.0000],\n",
       "          [0.0000, 0.0000, 0.0000, 0.0000, 0.0000, 0.0000, 0.0000, 0.0000,\n",
       "           0.0000, 0.0000, 0.0000, 0.0000, 0.0000, 0.0000, 0.0000, 0.0000,\n",
       "           0.0000, 0.0000, 0.0000, 0.0000, 0.0000, 0.0000, 0.0000, 0.0000,\n",
       "           0.0000, 0.0000, 0.0000, 0.0000],\n",
       "          [0.0000, 0.0000, 0.0000, 0.0000, 0.0000, 0.0000, 0.0000, 0.0000,\n",
       "           0.0000, 0.0000, 0.0000, 0.0000, 0.0118, 0.0706, 0.0706, 0.0706,\n",
       "           0.4941, 0.5333, 0.6863, 0.1020, 0.6510, 1.0000, 0.9686, 0.4980,\n",
       "           0.0000, 0.0000, 0.0000, 0.0000],\n",
       "          [0.0000, 0.0000, 0.0000, 0.0000, 0.0000, 0.0000, 0.0000, 0.0000,\n",
       "           0.1176, 0.1412, 0.3686, 0.6039, 0.6667, 0.9922, 0.9922, 0.9922,\n",
       "           0.9922, 0.9922, 0.8824, 0.6745, 0.9922, 0.9490, 0.7647, 0.2510,\n",
       "           0.0000, 0.0000, 0.0000, 0.0000],\n",
       "          [0.0000, 0.0000, 0.0000, 0.0000, 0.0000, 0.0000, 0.0000, 0.1922,\n",
       "           0.9333, 0.9922, 0.9922, 0.9922, 0.9922, 0.9922, 0.9922, 0.9922,\n",
       "           0.9922, 0.9843, 0.3647, 0.3216, 0.3216, 0.2196, 0.1529, 0.0000,\n",
       "           0.0000, 0.0000, 0.0000, 0.0000],\n",
       "          [0.0000, 0.0000, 0.0000, 0.0000, 0.0000, 0.0000, 0.0000, 0.0706,\n",
       "           0.8588, 0.9922, 0.9922, 0.9922, 0.9922, 0.9922, 0.7765, 0.7137,\n",
       "           0.9686, 0.9451, 0.0000, 0.0000, 0.0000, 0.0000, 0.0000, 0.0000,\n",
       "           0.0000, 0.0000, 0.0000, 0.0000],\n",
       "          [0.0000, 0.0000, 0.0000, 0.0000, 0.0000, 0.0000, 0.0000, 0.0000,\n",
       "           0.3137, 0.6118, 0.4196, 0.9922, 0.9922, 0.8039, 0.0431, 0.0000,\n",
       "           0.1686, 0.6039, 0.0000, 0.0000, 0.0000, 0.0000, 0.0000, 0.0000,\n",
       "           0.0000, 0.0000, 0.0000, 0.0000],\n",
       "          [0.0000, 0.0000, 0.0000, 0.0000, 0.0000, 0.0000, 0.0000, 0.0000,\n",
       "           0.0000, 0.0549, 0.0039, 0.6039, 0.9922, 0.3529, 0.0000, 0.0000,\n",
       "           0.0000, 0.0000, 0.0000, 0.0000, 0.0000, 0.0000, 0.0000, 0.0000,\n",
       "           0.0000, 0.0000, 0.0000, 0.0000],\n",
       "          [0.0000, 0.0000, 0.0000, 0.0000, 0.0000, 0.0000, 0.0000, 0.0000,\n",
       "           0.0000, 0.0000, 0.0000, 0.5451, 0.9922, 0.7451, 0.0078, 0.0000,\n",
       "           0.0000, 0.0000, 0.0000, 0.0000, 0.0000, 0.0000, 0.0000, 0.0000,\n",
       "           0.0000, 0.0000, 0.0000, 0.0000],\n",
       "          [0.0000, 0.0000, 0.0000, 0.0000, 0.0000, 0.0000, 0.0000, 0.0000,\n",
       "           0.0000, 0.0000, 0.0000, 0.0431, 0.7451, 0.9922, 0.2745, 0.0000,\n",
       "           0.0000, 0.0000, 0.0000, 0.0000, 0.0000, 0.0000, 0.0000, 0.0000,\n",
       "           0.0000, 0.0000, 0.0000, 0.0000],\n",
       "          [0.0000, 0.0000, 0.0000, 0.0000, 0.0000, 0.0000, 0.0000, 0.0000,\n",
       "           0.0000, 0.0000, 0.0000, 0.0000, 0.1373, 0.9451, 0.8824, 0.6275,\n",
       "           0.4235, 0.0039, 0.0000, 0.0000, 0.0000, 0.0000, 0.0000, 0.0000,\n",
       "           0.0000, 0.0000, 0.0000, 0.0000],\n",
       "          [0.0000, 0.0000, 0.0000, 0.0000, 0.0000, 0.0000, 0.0000, 0.0000,\n",
       "           0.0000, 0.0000, 0.0000, 0.0000, 0.0000, 0.3176, 0.9412, 0.9922,\n",
       "           0.9922, 0.4667, 0.0980, 0.0000, 0.0000, 0.0000, 0.0000, 0.0000,\n",
       "           0.0000, 0.0000, 0.0000, 0.0000],\n",
       "          [0.0000, 0.0000, 0.0000, 0.0000, 0.0000, 0.0000, 0.0000, 0.0000,\n",
       "           0.0000, 0.0000, 0.0000, 0.0000, 0.0000, 0.0000, 0.1765, 0.7294,\n",
       "           0.9922, 0.9922, 0.5882, 0.1059, 0.0000, 0.0000, 0.0000, 0.0000,\n",
       "           0.0000, 0.0000, 0.0000, 0.0000],\n",
       "          [0.0000, 0.0000, 0.0000, 0.0000, 0.0000, 0.0000, 0.0000, 0.0000,\n",
       "           0.0000, 0.0000, 0.0000, 0.0000, 0.0000, 0.0000, 0.0000, 0.0627,\n",
       "           0.3647, 0.9882, 0.9922, 0.7333, 0.0000, 0.0000, 0.0000, 0.0000,\n",
       "           0.0000, 0.0000, 0.0000, 0.0000],\n",
       "          [0.0000, 0.0000, 0.0000, 0.0000, 0.0000, 0.0000, 0.0000, 0.0000,\n",
       "           0.0000, 0.0000, 0.0000, 0.0000, 0.0000, 0.0000, 0.0000, 0.0000,\n",
       "           0.0000, 0.9765, 0.9922, 0.9765, 0.2510, 0.0000, 0.0000, 0.0000,\n",
       "           0.0000, 0.0000, 0.0000, 0.0000],\n",
       "          [0.0000, 0.0000, 0.0000, 0.0000, 0.0000, 0.0000, 0.0000, 0.0000,\n",
       "           0.0000, 0.0000, 0.0000, 0.0000, 0.0000, 0.0000, 0.1804, 0.5098,\n",
       "           0.7176, 0.9922, 0.9922, 0.8118, 0.0078, 0.0000, 0.0000, 0.0000,\n",
       "           0.0000, 0.0000, 0.0000, 0.0000],\n",
       "          [0.0000, 0.0000, 0.0000, 0.0000, 0.0000, 0.0000, 0.0000, 0.0000,\n",
       "           0.0000, 0.0000, 0.0000, 0.0000, 0.1529, 0.5804, 0.8980, 0.9922,\n",
       "           0.9922, 0.9922, 0.9804, 0.7137, 0.0000, 0.0000, 0.0000, 0.0000,\n",
       "           0.0000, 0.0000, 0.0000, 0.0000],\n",
       "          [0.0000, 0.0000, 0.0000, 0.0000, 0.0000, 0.0000, 0.0000, 0.0000,\n",
       "           0.0000, 0.0000, 0.0941, 0.4471, 0.8667, 0.9922, 0.9922, 0.9922,\n",
       "           0.9922, 0.7882, 0.3059, 0.0000, 0.0000, 0.0000, 0.0000, 0.0000,\n",
       "           0.0000, 0.0000, 0.0000, 0.0000],\n",
       "          [0.0000, 0.0000, 0.0000, 0.0000, 0.0000, 0.0000, 0.0000, 0.0000,\n",
       "           0.0902, 0.2588, 0.8353, 0.9922, 0.9922, 0.9922, 0.9922, 0.7765,\n",
       "           0.3176, 0.0078, 0.0000, 0.0000, 0.0000, 0.0000, 0.0000, 0.0000,\n",
       "           0.0000, 0.0000, 0.0000, 0.0000],\n",
       "          [0.0000, 0.0000, 0.0000, 0.0000, 0.0000, 0.0000, 0.0706, 0.6706,\n",
       "           0.8588, 0.9922, 0.9922, 0.9922, 0.9922, 0.7647, 0.3137, 0.0353,\n",
       "           0.0000, 0.0000, 0.0000, 0.0000, 0.0000, 0.0000, 0.0000, 0.0000,\n",
       "           0.0000, 0.0000, 0.0000, 0.0000],\n",
       "          [0.0000, 0.0000, 0.0000, 0.0000, 0.2157, 0.6745, 0.8863, 0.9922,\n",
       "           0.9922, 0.9922, 0.9922, 0.9569, 0.5216, 0.0431, 0.0000, 0.0000,\n",
       "           0.0000, 0.0000, 0.0000, 0.0000, 0.0000, 0.0000, 0.0000, 0.0000,\n",
       "           0.0000, 0.0000, 0.0000, 0.0000],\n",
       "          [0.0000, 0.0000, 0.0000, 0.0000, 0.5333, 0.9922, 0.9922, 0.9922,\n",
       "           0.8314, 0.5294, 0.5176, 0.0627, 0.0000, 0.0000, 0.0000, 0.0000,\n",
       "           0.0000, 0.0000, 0.0000, 0.0000, 0.0000, 0.0000, 0.0000, 0.0000,\n",
       "           0.0000, 0.0000, 0.0000, 0.0000],\n",
       "          [0.0000, 0.0000, 0.0000, 0.0000, 0.0000, 0.0000, 0.0000, 0.0000,\n",
       "           0.0000, 0.0000, 0.0000, 0.0000, 0.0000, 0.0000, 0.0000, 0.0000,\n",
       "           0.0000, 0.0000, 0.0000, 0.0000, 0.0000, 0.0000, 0.0000, 0.0000,\n",
       "           0.0000, 0.0000, 0.0000, 0.0000],\n",
       "          [0.0000, 0.0000, 0.0000, 0.0000, 0.0000, 0.0000, 0.0000, 0.0000,\n",
       "           0.0000, 0.0000, 0.0000, 0.0000, 0.0000, 0.0000, 0.0000, 0.0000,\n",
       "           0.0000, 0.0000, 0.0000, 0.0000, 0.0000, 0.0000, 0.0000, 0.0000,\n",
       "           0.0000, 0.0000, 0.0000, 0.0000],\n",
       "          [0.0000, 0.0000, 0.0000, 0.0000, 0.0000, 0.0000, 0.0000, 0.0000,\n",
       "           0.0000, 0.0000, 0.0000, 0.0000, 0.0000, 0.0000, 0.0000, 0.0000,\n",
       "           0.0000, 0.0000, 0.0000, 0.0000, 0.0000, 0.0000, 0.0000, 0.0000,\n",
       "           0.0000, 0.0000, 0.0000, 0.0000]]]])"
      ]
     },
     "execution_count": 50,
     "metadata": {},
     "output_type": "execute_result"
    }
   ],
   "source": [
    "x = X_train.view(1,1,28,28)\n",
    "x"
   ]
  },
  {
   "cell_type": "code",
   "execution_count": 51,
   "id": "cefa9f29",
   "metadata": {},
   "outputs": [
    {
     "data": {
      "text/plain": [
       "torch.Size([1, 6, 26, 26])"
      ]
     },
     "execution_count": 51,
     "metadata": {},
     "output_type": "execute_result"
    }
   ],
   "source": [
    "#Lo pasamos en la primera capa de convolución\n",
    "x=F.relu(conv1(x)) # 1 imagen, 6 filtros, 26 porque perdimos información de los extremos\n",
    "x.shape"
   ]
  },
  {
   "cell_type": "code",
   "execution_count": 52,
   "id": "da4c1874",
   "metadata": {},
   "outputs": [
    {
     "data": {
      "text/plain": [
       "torch.Size([1, 6, 13, 13])"
      ]
     },
     "execution_count": 52,
     "metadata": {},
     "output_type": "execute_result"
    }
   ],
   "source": [
    "#Lo pasamos por la capa de agrupación\n",
    "x = F.max_pool2d(x,2,2)\n",
    "x.shape"
   ]
  },
  {
   "cell_type": "code",
   "execution_count": 53,
   "id": "9ce43ac5",
   "metadata": {},
   "outputs": [
    {
     "data": {
      "text/plain": [
       "torch.Size([1, 16, 11, 11])"
      ]
     },
     "execution_count": 53,
     "metadata": {},
     "output_type": "execute_result"
    }
   ],
   "source": [
    "#Lo pasamos por la segunda capa de convolución\n",
    "x = F.relu(conv2(x))\n",
    "x.shape"
   ]
  },
  {
   "cell_type": "code",
   "execution_count": 54,
   "id": "ed203537",
   "metadata": {},
   "outputs": [
    {
     "data": {
      "text/plain": [
       "torch.Size([1, 16, 5, 5])"
      ]
     },
     "execution_count": 54,
     "metadata": {},
     "output_type": "execute_result"
    }
   ],
   "source": [
    "#Lo pasamos por la segunda capa de agrupación\n",
    "x = F.max_pool2d(x,2,2)\n",
    "x.shape"
   ]
  },
  {
   "cell_type": "code",
   "execution_count": 55,
   "id": "c7cfefeb",
   "metadata": {},
   "outputs": [
    {
     "data": {
      "text/plain": [
       "torch.Size([1, 400])"
      ]
     },
     "execution_count": 55,
     "metadata": {},
     "output_type": "execute_result"
    }
   ],
   "source": [
    "#(((28-2)/2)-2)/2 = 5.5 = 5\n",
    "#-1 significa que asume lo que sea del tamaño del lote es que guade la primera dimensión\n",
    "\n",
    "x.view(-1,16*5*5).shape"
   ]
  },
  {
   "cell_type": "markdown",
   "id": "05729626",
   "metadata": {},
   "source": [
    "Model y entrenamiento"
   ]
  },
  {
   "cell_type": "code",
   "execution_count": 56,
   "id": "b61f4031",
   "metadata": {},
   "outputs": [],
   "source": [
    "#Ampliar la clase de módulo base\n",
    "\n",
    "class ConvolutionalNetwork(nn.Module):\n",
    "    \n",
    "    def __init__(self):\n",
    "        super().__init__()\n",
    "        #Configura las capas convolucionales\n",
    "        self.conv1 = nn.Conv2d(1,6,3,1)\n",
    "        self.conv2 = nn.Conv2d(6,16,3,1)\n",
    "        #Configura las capas completamente conectadas\n",
    "        #El tamaño de entrada de (5x5x16) está determinado por el efecto de nuestros núcleos en el tamaño de la imagen de entrada.\n",
    "        self.fc1 = nn.Linear(5*5*16,120)\n",
    "        self.fc2 = nn.Linear(120,84)\n",
    "        self.fc3 = nn.Linear(84,10)\n",
    "    #Definir el método de avance    \n",
    "    def forward(self,X):\n",
    "        X = F.relu(self.conv1(X))\n",
    "        X = F.max_pool2d(X,2,2)\n",
    "        X = F.relu(self.conv2(X))\n",
    "        X = F.max_pool2d(X,2,2)\n",
    "        X = X.view(-1,16*5*5)\n",
    "        X = F.relu(self.fc1(X))\n",
    "        X = F.relu(self.fc2(X))\n",
    "        X = self.fc3(X)\n",
    "        return F.log_softmax(X,dim=1)"
   ]
  },
  {
   "cell_type": "code",
   "execution_count": 57,
   "id": "a525ea6c",
   "metadata": {},
   "outputs": [
    {
     "data": {
      "text/plain": [
       "ConvolutionalNetwork(\n",
       "  (conv1): Conv2d(1, 6, kernel_size=(3, 3), stride=(1, 1))\n",
       "  (conv2): Conv2d(6, 16, kernel_size=(3, 3), stride=(1, 1))\n",
       "  (fc1): Linear(in_features=400, out_features=120, bias=True)\n",
       "  (fc2): Linear(in_features=120, out_features=84, bias=True)\n",
       "  (fc3): Linear(in_features=84, out_features=10, bias=True)\n",
       ")"
      ]
     },
     "execution_count": 57,
     "metadata": {},
     "output_type": "execute_result"
    }
   ],
   "source": [
    "torch.manual_seed(42)\n",
    "model = ConvolutionalNetwork()\n",
    "model"
   ]
  },
  {
   "cell_type": "code",
   "execution_count": 58,
   "id": "a5c6b9e6",
   "metadata": {},
   "outputs": [
    {
     "name": "stdout",
     "output_type": "stream",
     "text": [
      "54\n",
      "6\n",
      "864\n",
      "16\n",
      "48000\n",
      "120\n",
      "10080\n",
      "84\n",
      "840\n",
      "10\n"
     ]
    }
   ],
   "source": [
    "for param in model.parameters():\n",
    "    print(param.numel())"
   ]
  },
  {
   "cell_type": "code",
   "execution_count": 59,
   "id": "8f74b834",
   "metadata": {},
   "outputs": [],
   "source": [
    "# total 60074\n",
    "# Defini\n",
    "criterion = nn.CrossEntropyLoss()\n",
    "optimizer =  torch.optim.Adam(model.parameters(),lr=0.001)"
   ]
  },
  {
   "cell_type": "code",
   "execution_count": 60,
   "id": "f964ed7b",
   "metadata": {},
   "outputs": [
    {
     "name": "stdout",
     "output_type": "stream",
     "text": [
      "EPOCH: 0 BATCH: 600 LOSS: 0.04255066066980362\n",
      "EPOCH: 0 BATCH: 1200 LOSS: 0.07941775768995285\n",
      "EPOCH: 0 BATCH: 1800 LOSS: 0.31659573316574097\n",
      "EPOCH: 0 BATCH: 2400 LOSS: 0.017571672797203064\n",
      "EPOCH: 0 BATCH: 3000 LOSS: 0.006613238714635372\n",
      "EPOCH: 0 BATCH: 3600 LOSS: 0.0013382696779444814\n",
      "EPOCH: 0 BATCH: 4200 LOSS: 0.5070301294326782\n",
      "EPOCH: 0 BATCH: 4800 LOSS: 0.030819613486528397\n",
      "EPOCH: 0 BATCH: 5400 LOSS: 0.011751520447432995\n",
      "EPOCH: 0 BATCH: 6000 LOSS: 0.05140992999076843\n",
      "EPOCH: 1 BATCH: 600 LOSS: 0.04187324270606041\n",
      "EPOCH: 1 BATCH: 1200 LOSS: 0.05362094193696976\n",
      "EPOCH: 1 BATCH: 1800 LOSS: 0.004769772756844759\n",
      "EPOCH: 1 BATCH: 2400 LOSS: 0.03462228924036026\n",
      "EPOCH: 1 BATCH: 3000 LOSS: 0.3709203004837036\n",
      "EPOCH: 1 BATCH: 3600 LOSS: 0.0003186531539540738\n",
      "EPOCH: 1 BATCH: 4200 LOSS: 0.0006297794170677662\n",
      "EPOCH: 1 BATCH: 4800 LOSS: 0.000635050586424768\n",
      "EPOCH: 1 BATCH: 5400 LOSS: 0.0006261309026740491\n",
      "EPOCH: 1 BATCH: 6000 LOSS: 0.009330169297754765\n",
      "EPOCH: 2 BATCH: 600 LOSS: 0.001098857494071126\n",
      "EPOCH: 2 BATCH: 1200 LOSS: 0.0017426980193704367\n",
      "EPOCH: 2 BATCH: 1800 LOSS: 0.0004575795028358698\n",
      "EPOCH: 2 BATCH: 2400 LOSS: 0.0036566313356161118\n",
      "EPOCH: 2 BATCH: 3000 LOSS: 0.29965323209762573\n",
      "EPOCH: 2 BATCH: 3600 LOSS: 0.01103188656270504\n",
      "EPOCH: 2 BATCH: 4200 LOSS: 0.0267857126891613\n",
      "EPOCH: 2 BATCH: 4800 LOSS: 0.008961356244981289\n",
      "EPOCH: 2 BATCH: 5400 LOSS: 0.00019719393458217382\n",
      "EPOCH: 2 BATCH: 6000 LOSS: 0.0001221141719724983\n",
      "EPOCH: 3 BATCH: 600 LOSS: 0.0006572577985934913\n",
      "EPOCH: 3 BATCH: 1200 LOSS: 0.000855826772749424\n",
      "EPOCH: 3 BATCH: 1800 LOSS: 0.0001481328217778355\n",
      "EPOCH: 3 BATCH: 2400 LOSS: 0.0002869955205824226\n",
      "EPOCH: 3 BATCH: 3000 LOSS: 0.07507380098104477\n",
      "EPOCH: 3 BATCH: 3600 LOSS: 0.003969880752265453\n",
      "EPOCH: 3 BATCH: 4200 LOSS: 0.0006429835921153426\n",
      "EPOCH: 3 BATCH: 4800 LOSS: 0.03113151527941227\n",
      "EPOCH: 3 BATCH: 5400 LOSS: 0.004513903055340052\n",
      "EPOCH: 3 BATCH: 6000 LOSS: 0.013556620106101036\n",
      "EPOCH: 4 BATCH: 600 LOSS: 0.0007851755945011973\n",
      "EPOCH: 4 BATCH: 1200 LOSS: 0.164765864610672\n",
      "EPOCH: 4 BATCH: 1800 LOSS: 5.8508605434326455e-05\n",
      "EPOCH: 4 BATCH: 2400 LOSS: 0.00015656190225854516\n",
      "EPOCH: 4 BATCH: 3000 LOSS: 0.00629799347370863\n",
      "EPOCH: 4 BATCH: 3600 LOSS: 0.00028817227575927973\n",
      "EPOCH: 4 BATCH: 4200 LOSS: 0.00031354196835309267\n",
      "EPOCH: 4 BATCH: 4800 LOSS: 0.00024346033751498908\n",
      "EPOCH: 4 BATCH: 5400 LOSS: 0.0008687985246069729\n",
      "EPOCH: 4 BATCH: 6000 LOSS: 0.0024597386363893747\n",
      "Training took 30.250370927651723 minutes\n"
     ]
    }
   ],
   "source": [
    "import time\n",
    "start_time = time.time()\n",
    "\n",
    "#Variable \n",
    "epochs = 5\n",
    "train_losses = []\n",
    "test_losses = []\n",
    "train_correct = []\n",
    "test_correct = []\n",
    "#Bucle de epocas\n",
    "for i in range(epochs):\n",
    "    \n",
    "    trn_corr=0\n",
    "    tst_corr=0\n",
    "    #Train\n",
    "    \n",
    "    #Corrienedo los lotes de entrenamiento\n",
    "    for b,(X_train, y_train) in enumerate(train_loader):\n",
    "        b+=1\n",
    "        \n",
    "        #aplicando modelo\n",
    "        y_pred = model(X_train) #no aplanada\n",
    "        loss = criterion(y_pred,y_train)\n",
    "        \n",
    "        #totald de número de prediccciones correctastotal \n",
    "        predicted = torch.max(y_pred.data,1)[1]\n",
    "        batch_corr = (predicted == y_train).sum() #Verdadero 1 / falso 0 de la funcion sum()\n",
    "        trn_corr += batch_corr\n",
    "        \n",
    "        #Actualizando parámetros\n",
    "        optimizer.zero_grad()\n",
    "        loss.backward()\n",
    "        optimizer.step()\n",
    "        \n",
    "        #Imprimiendo resultados interinos\n",
    "        if b%600 ==0:\n",
    "            print(f\"EPOCH: {i} BATCH: {b} LOSS: {loss.item()}\")\n",
    "    \n",
    "    train_losses.append(loss)\n",
    "    train_correct.append(trn_corr)\n",
    "    \n",
    "    #Corriendo los lotes de pruebas\n",
    "    with torch.no_grad():\n",
    "        for b,(X_test,y_test) in enumerate(test_loader):\n",
    "            \n",
    "            #Aplicando modelo\n",
    "            y_val = model(X_test)\n",
    "            \n",
    "            #Total de número de predicciones correctas\n",
    "            predicted =  torch.max(y_val.data,1)[1]\n",
    "            tst_corr += (predicted == y_test).sum()\n",
    "            \n",
    "    loss = criterion(y_val,y_test)\n",
    "    test_losses.append(loss)\n",
    "    test_correct.append(tst_corr)\n",
    "\n",
    "\n",
    "\n",
    "\n",
    "\n",
    "\n",
    "current_time = time.time()\n",
    "total = current_time - start_time\n",
    "print(f\"Training took {total/60} minutes\")"
   ]
  },
  {
   "cell_type": "markdown",
   "id": "d6b67e84",
   "metadata": {},
   "source": [
    "Evaluación del modelo\n"
   ]
  },
  {
   "cell_type": "code",
   "execution_count": 61,
   "id": "13a03e2e",
   "metadata": {},
   "outputs": [
    {
     "data": {
      "image/png": "[encoded data removed]",
      "text/plain": [
       "<Figure size 640x480 with 1 Axes>"
      ]
     },
     "metadata": {},
     "output_type": "display_data"
    }
   ],
   "source": [
    "with torch.no_grad():\n",
    "    plt.plot(train_losses,label='train loss')\n",
    "    plt.plot(test_losses,label='validation loss')\n",
    "    plt.title('LOSS AT EPOCH')\n",
    "    plt.legend()"
   ]
  },
  {
   "cell_type": "code",
   "execution_count": 62,
   "id": "9217c4a2",
   "metadata": {},
   "outputs": [
    {
     "data": {
      "image/png": "[encoded data removed]",
      "text/plain": [
       "<Figure size 640x480 with 1 Axes>"
      ]
     },
     "metadata": {},
     "output_type": "display_data"
    }
   ],
   "source": [
    "plt.plot([t/600 for t in train_correct], label='training accurary')\n",
    "plt.plot([t/100 for t in test_correct], label='validation accuracy')\n",
    "plt.title('Accuracy at the end of epoch')\n",
    "plt.legend();"
   ]
  },
  {
   "cell_type": "markdown",
   "id": "36b5c998",
   "metadata": {},
   "source": [
    "Evaluando los Datos"
   ]
  },
  {
   "cell_type": "code",
   "execution_count": 63,
   "id": "e847c0a0",
   "metadata": {},
   "outputs": [],
   "source": [
    "#Extrayendo todo los datos, sin lotes\n",
    "test_load_all = DataLoader(test_data,batch_size=10000,shuffle=False)"
   ]
  },
  {
   "cell_type": "code",
   "execution_count": 64,
   "id": "da82f711",
   "metadata": {},
   "outputs": [],
   "source": [
    "with torch.no_grad():\n",
    "    correct = 0\n",
    "    for X_test,y_test in test_load_all:\n",
    "        y_val = model(X_test)\n",
    "        predicted = torch.max(y_val,1)[1]\n",
    "        correct += (predicted == y_test).sum()\n",
    "        "
   ]
  },
  {
   "cell_type": "code",
   "execution_count": 65,
   "id": "2ae6bc6c",
   "metadata": {},
   "outputs": [
    {
     "data": {
      "text/plain": [
       "98.68"
      ]
     },
     "execution_count": 65,
     "metadata": {},
     "output_type": "execute_result"
    }
   ],
   "source": [
    "100*correct.item()/len(test_data)"
   ]
  },
  {
   "cell_type": "markdown",
   "id": "fcfc7029",
   "metadata": {},
   "source": [
    "Mostrando la matriz de confusión"
   ]
  },
  {
   "cell_type": "code",
   "execution_count": 66,
   "id": "5c4c1569",
   "metadata": {},
   "outputs": [
    {
     "name": "stdout",
     "output_type": "stream",
     "text": [
      "[[   0    1    2    3    4    5    6    7    8    9]]\n",
      "\n"
     ]
    }
   ],
   "source": [
    "np.set_printoptions(formatter=dict(int=lambda x: f'{x:4}'))\n",
    "print(np.arange(10).reshape(1,10))\n",
    "print()"
   ]
  },
  {
   "cell_type": "code",
   "execution_count": 67,
   "id": "715c59aa",
   "metadata": {},
   "outputs": [
    {
     "data": {
      "text/plain": [
       "array([[ 973,    0,    1,    0,    0,    2,    2,    0,    6,    0],\n",
       "       [   0, 1134,    0,    0,    1,    0,    5,    8,    0,    0],\n",
       "       [   2,    0, 1028,    0,    1,    0,    1,    9,    4,    0],\n",
       "       [   0,    1,    0, 1009,    0,   19,    0,    0,    2,    1],\n",
       "       [   0,    0,    1,    0,  977,    0,    1,    0,    0,   14],\n",
       "       [   0,    0,    0,    1,    0,  859,    2,    0,    0,    3],\n",
       "       [   4,    0,    0,    0,    1,    2,  946,    0,    1,    0],\n",
       "       [   1,    0,    2,    0,    0,    1,    0, 1008,    2,    6],\n",
       "       [   0,    0,    0,    0,    0,    2,    1,    1,  957,    8],\n",
       "       [   0,    0,    0,    0,    2,    7,    0,    2,    2,  977]],\n",
       "      dtype=int64)"
      ]
     },
     "execution_count": 67,
     "metadata": {},
     "output_type": "execute_result"
    }
   ],
   "source": [
    "cm = confusion_matrix(predicted.view(-1),y_test.view(-1))\n",
    "cm"
   ]
  },
  {
   "cell_type": "code",
   "execution_count": 68,
   "id": "d12eb396",
   "metadata": {},
   "outputs": [
    {
     "data": {
      "text/plain": [
       "<Axes: >"
      ]
     },
     "execution_count": 68,
     "metadata": {},
     "output_type": "execute_result"
    },
    {
     "data": {
      "image/png": "[encoded data removed]",
      "text/plain": [
       "<Figure size 640x480 with 2 Axes>"
      ]
     },
     "metadata": {},
     "output_type": "display_data"
    }
   ],
   "source": [
    "import seaborn as sns\n",
    "sns.heatmap(cm, annot=True)"
   ]
  },
  {
   "cell_type": "markdown",
   "id": "552f238e",
   "metadata": {},
   "source": [
    "Examinando los errores. Podemos rastrear las posiciones del índice de las predicciones \"perdidas\" y extraer la imagen y la etiqueta correspondientes."
   ]
  },
  {
   "cell_type": "code",
   "execution_count": 100,
   "id": "382cefd2",
   "metadata": {},
   "outputs": [
    {
     "data": {
      "text/plain": [
       "132"
      ]
     },
     "execution_count": 100,
     "metadata": {},
     "output_type": "execute_result"
    }
   ],
   "source": [
    "misses = np.array([])\n",
    "for i in range(len(predicted.view(-1))):\n",
    "    if predicted[i] != y_test[i]:\n",
    "        misses = np.append(misses,i).astype('int64')\n",
    "        \n",
    "# Muestra el número de equivocaciones\n",
    "len(misses)"
   ]
  },
  {
   "cell_type": "code",
   "execution_count": 114,
   "id": "edfbce01",
   "metadata": {},
   "outputs": [
    {
     "data": {
      "text/plain": [
       "array([ 167,  247,  320,  340,  359,  448,  460,  471,  495,  582],\n",
       "      dtype=int64)"
      ]
     },
     "execution_count": 114,
     "metadata": {},
     "output_type": "execute_result"
    }
   ],
   "source": [
    "# Muestra los primeros 10 errores\n",
    "misses[:10]"
   ]
  },
  {
   "cell_type": "code",
   "execution_count": 115,
   "id": "0ba593b6",
   "metadata": {},
   "outputs": [],
   "source": [
    "# Configura un iterador para alimentar filas por lotes\n",
    "r = 12   # número de ileras\n",
    "row = iter(np.array_split(misses,len(misses)//r+1))"
   ]
  },
  {
   "cell_type": "code",
   "execution_count": 116,
   "id": "79d2a5cb",
   "metadata": {},
   "outputs": [
    {
     "name": "stdout",
     "output_type": "stream",
     "text": [
      "Index: [ 167  247  320  340  359  448  460  471  495  582  659]\n",
      "Label: [   5    4    9    5    9    9    5    9    8    8    2]\n",
      "Guess: [   3    2    8    3    4    8    9    7    0    2    7]\n"
     ]
    },
    {
     "data": {
      "image/png": "[encoded data removed]",
      "text/plain": [
       "<Figure size 1000x400 with 1 Axes>"
      ]
     },
     "metadata": {},
     "output_type": "display_data"
    }
   ],
   "source": [
    "nextrow = next(row)\n",
    "print(\"Index:\", nextrow)\n",
    "print(\"Label:\", y_test.index_select(0,torch.tensor(nextrow)).numpy())\n",
    "print(\"Guess:\", predicted.index_select(0,torch.tensor(nextrow)).numpy())\n",
    "\n",
    "images = X_test.index_select(0,torch.tensor(nextrow))\n",
    "im = make_grid(images, nrow=r)\n",
    "plt.figure(figsize=(10,4))\n",
    "plt.imshow(np.transpose(im.numpy(), (1, 2, 0)));"
   ]
  },
  {
   "cell_type": "markdown",
   "id": "bdc44bc8",
   "metadata": {},
   "source": [
    "Corriendo una imagen atravéz del modelo, también podemos pasar una sola imagen a través del modelo para obtener una predicción."
   ]
  },
  {
   "cell_type": "code",
   "execution_count": 117,
   "id": "478e011a",
   "metadata": {},
   "outputs": [
    {
     "data": {
      "text/plain": [
       "<matplotlib.image.AxesImage at 0x282e4799550>"
      ]
     },
     "execution_count": 117,
     "metadata": {},
     "output_type": "execute_result"
    },
    {
     "data": {
      "image/png": "[encoded data removed]",
      "text/plain": [
       "<Figure size 640x480 with 1 Axes>"
      ]
     },
     "metadata": {},
     "output_type": "display_data"
    }
   ],
   "source": [
    "plt.imshow(test_data[4899][0].reshape(28,28))"
   ]
  },
  {
   "cell_type": "code",
   "execution_count": 118,
   "id": "615f9acb",
   "metadata": {},
   "outputs": [],
   "source": [
    "model.eval()\n",
    "with torch.no_grad():\n",
    "    new_prediction = model(test_data[4899][0].view(1,1,28,28))"
   ]
  },
  {
   "cell_type": "code",
   "execution_count": 119,
   "id": "7b83c624",
   "metadata": {},
   "outputs": [
    {
     "data": {
      "text/plain": [
       "tensor(2)"
      ]
     },
     "execution_count": 119,
     "metadata": {},
     "output_type": "execute_result"
    }
   ],
   "source": [
    "new_prediction.argmax()"
   ]
  },
  {
   "cell_type": "markdown",
   "id": "5fb32e8c",
   "metadata": {},
   "source": [
    "Conclusión:\n",
    "\n",
    "Atravéz de Pytorch se evaluó un modelo, de imagenes de números, se probó y nos damos cuenta que aunque la exactitud es muy buen, resulta que sí hay un error notable entre el modelo y la realidad, sí hay datos que una persona no tendría problemas en identificar, pero también hay datos que podrían confundir a una persona. La exactitud de los datos o la calidad de datos de entrenamiento, juega un papel principal en el desempeño de los redes convolucionales, pero nos damos cuenta que una red ANN es más robusta y menos inexacta que una red CNN.  "
   ]
  }
 ],
 "metadata": {
  "kernelspec": {
   "display_name": "Python 3 (ipykernel)",
   "language": "python",
   "name": "python3"
  },
  "language_info": {
   "codemirror_mode": {
    "name": "ipython",
    "version": 3
   },
   "file_extension": ".py",
   "mimetype": "text/x-python",
   "name": "python",
   "nbconvert_exporter": "python",
   "pygments_lexer": "ipython3",
   "version": "3.11.5"
  }
 },
 "nbformat": 4,
 "nbformat_minor": 5
}
